{
 "cells": [
  {
   "cell_type": "code",
   "execution_count": 1,
   "id": "d8c3c45c",
   "metadata": {},
   "outputs": [],
   "source": [
    "import pandas as pd"
   ]
  },
  {
   "cell_type": "code",
   "execution_count": 3,
   "id": "e0caf433",
   "metadata": {},
   "outputs": [],
   "source": [
    "imdb = pd.read_csv('imdb.csv').drop(columns = \"Unnamed: 0\")"
   ]
  },
  {
   "cell_type": "code",
   "execution_count": 8,
   "id": "b4696769",
   "metadata": {},
   "outputs": [
    {
     "data": {
      "text/plain": [
       "2923706026"
      ]
     },
     "execution_count": 8,
     "metadata": {},
     "output_type": "execute_result"
    }
   ],
   "source": [
    "imdb['World Wide Sales (in $)'].max()"
   ]
  },
  {
   "cell_type": "code",
   "execution_count": null,
   "id": "a2c3088d",
   "metadata": {},
   "outputs": [],
   "source": []
  }
 ],
 "metadata": {
  "kernelspec": {
   "display_name": "Python 3 (ipykernel)",
   "language": "python",
   "name": "python3"
  },
  "language_info": {
   "codemirror_mode": {
    "name": "ipython",
    "version": 3
   },
   "file_extension": ".py",
   "mimetype": "text/x-python",
   "name": "python",
   "nbconvert_exporter": "python",
   "pygments_lexer": "ipython3",
   "version": "3.11.5"
  }
 },
 "nbformat": 4,
 "nbformat_minor": 5
}
